{
 "cells": [
  {
   "cell_type": "code",
   "execution_count": 3,
   "metadata": {},
   "outputs": [],
   "source": [
    "import pandas as pd\n",
    "import numpy as np\n",
    "import seaborn as sns\n",
    "import matplotlib.pyplot as plt\n",
    "import os\n",
    "import sklearn"
   ]
  },
  {
   "cell_type": "code",
   "execution_count": 4,
   "metadata": {},
   "outputs": [
    {
     "data": {
      "text/plain": [
       "['books_data.csv',\n",
       " 'dataimputar.csv',\n",
       " 'ecommerce_data.csv',\n",
       " 'ecommerce_export.csv',\n",
       " 'ejemplo_data.csv',\n",
       " 'ratings_data.csv']"
      ]
     },
     "execution_count": 4,
     "metadata": {},
     "output_type": "execute_result"
    }
   ],
   "source": [
    "os.listdir(\"datos\")"
   ]
  },
  {
   "cell_type": "code",
   "execution_count": 41,
   "metadata": {},
   "outputs": [],
   "source": [
    "df1 = pd.read_csv(\"datos/ejemplo_data.csv\")"
   ]
  },
  {
   "cell_type": "code",
   "execution_count": 44,
   "metadata": {},
   "outputs": [
    {
     "name": "stdout",
     "output_type": "stream",
     "text": [
      "<class 'pandas.core.frame.DataFrame'>\n",
      "RangeIndex: 5 entries, 0 to 4\n",
      "Data columns (total 8 columns):\n",
      " #   Column       Non-Null Count  Dtype  \n",
      "---  ------       --------------  -----  \n",
      " 0   ID           5 non-null      int32  \n",
      " 1   Nombre       5 non-null      object \n",
      " 2   2016         5 non-null      float64\n",
      " 3   2017         5 non-null      object \n",
      " 4   Crecimiento  5 non-null      object \n",
      " 5   Unidades     5 non-null      int32  \n",
      " 6   fecha        5 non-null      object \n",
      " 7   Activo       5 non-null      bool   \n",
      "dtypes: bool(1), float64(1), int32(2), object(4)\n",
      "memory usage: 377.0+ bytes\n"
     ]
    }
   ],
   "source": [
    "df1.info()"
   ]
  },
  {
   "cell_type": "markdown",
   "metadata": {},
   "source": [
    "imputación y similares"
   ]
  },
  {
   "cell_type": "markdown",
   "metadata": {},
   "source": [
    "1.2.) Transformar variables. Como en Unidad hay un \"no\" que no se puede transformar, lo reemplazo por un 0 y todos felices."
   ]
  },
  {
   "cell_type": "code",
   "execution_count": 43,
   "metadata": {},
   "outputs": [],
   "source": [
    "df1['Unidades']=df1['Unidades'].replace({\"No\":0})\n",
    "\n",
    "#Como voy a tener que eliminar el $ y la ,. Es mejor usar una regex para ahorrar líneas. Podría encadenar el astype luego, pero eso sería volar demasiado cerca del sol.\n",
    "\n",
    "df1['2016']=df1['2016'].str.replace(r\"[$,]\", \"\", regex=True)\n",
    "\n",
    "\n",
    "df1['ID']=df1['ID'].astype(\"int\")\n",
    "df1['Activo']=df1['Activo'].astype(\"bool\")\n",
    "df1['Unidades']=df1['Unidades'].astype(\"int\")\n",
    "df1['2016']=df1['2016'].astype(\"float\")"
   ]
  },
  {
   "cell_type": "markdown",
   "metadata": {},
   "source": [
    "2. Lectura y análisisexploratorio de datos.\n",
    "\n",
    "2.1. Cargar la base de datos de nombre \"ecommerce data.csv\".\n",
    "2.2. Identifique los tipos de variables que hay disponibles en la base de datos (df.types o df.info()\n"
   ]
  },
  {
   "cell_type": "code",
   "execution_count": 54,
   "metadata": {},
   "outputs": [],
   "source": [
    "df2= pd.read_csv(\"datos/ecommerce_data.csv\", encoding='latin-1')\n",
    "\n",
    "#no funciona el utf-8, así que pruebo con latin-1"
   ]
  },
  {
   "cell_type": "code",
   "execution_count": 56,
   "metadata": {},
   "outputs": [
    {
     "name": "stdout",
     "output_type": "stream",
     "text": [
      "<class 'pandas.core.frame.DataFrame'>\n",
      "RangeIndex: 541909 entries, 0 to 541908\n",
      "Data columns (total 8 columns):\n",
      " #   Column       Non-Null Count   Dtype  \n",
      "---  ------       --------------   -----  \n",
      " 0   InvoiceNo    541909 non-null  int32  \n",
      " 1   StockCode    541909 non-null  object \n",
      " 2   Description  541909 non-null  object \n",
      " 3   Quantity     541909 non-null  int32  \n",
      " 4   InvoiceDate  541909 non-null  object \n",
      " 5   UnitPrice    541909 non-null  float64\n",
      " 6   CustomerID   406829 non-null  float64\n",
      " 7   Country      541909 non-null  object \n",
      "dtypes: float64(2), int32(2), object(4)\n",
      "memory usage: 28.9+ MB\n"
     ]
    }
   ],
   "source": [
    "df2.info()"
   ]
  },
  {
   "cell_type": "markdown",
   "metadata": {},
   "source": [
    "convertir variables:\n",
    "•Utilizando la funci´on astype transforme el atributo \"InvoiceNo\" a entero y el atributo \"Description\"a string. Vuelva a consultar el estado de las variables.\n",
    "•Convierta el atributo \"Quantity\" a entero y \"UnitPrice\" a flotante.\n",
    "•La columna \"InvoiceDate\" contiene un string que representa \"fecha-hora\", separe la columna endos columnas que representen cada atributo por separado.\n"
   ]
  },
  {
   "cell_type": "code",
   "execution_count": 55,
   "metadata": {},
   "outputs": [],
   "source": [
    "#InvoiceNo tiene una C en algún lado. Para evitarme problemas con otras letras puedo usar una regex que e elimine todo l oque no sea número. Eso la deja lista para el astype a entero.\n",
    "df2['InvoiceNo']=df2['InvoiceNo'].str.replace(r\"\\D\", \"\", regex=True)\n",
    "\n",
    "\n",
    "df2['InvoiceNo']=df2['InvoiceNo'].astype(\"int\")\n",
    "df2['Description']=df2['Description'].astype(\"str\")\n",
    "df2['Quantity']=df2['Quantity'].astype(\"int\")\n",
    "df2['UnitPrice']=df2['UnitPrice'].astype(\"float\")"
   ]
  },
  {
   "cell_type": "code",
   "execution_count": 58,
   "metadata": {},
   "outputs": [],
   "source": [
    "df2[['Fecha', 'Hora']]=df2['InvoiceDate'].str.split(\" \", n=1, expand=True)"
   ]
  },
  {
   "cell_type": "code",
   "execution_count": null,
   "metadata": {},
   "outputs": [
    {
     "data": {
      "text/html": [
       "<div>\n",
       "<style scoped>\n",
       "    .dataframe tbody tr th:only-of-type {\n",
       "        vertical-align: middle;\n",
       "    }\n",
       "\n",
       "    .dataframe tbody tr th {\n",
       "        vertical-align: top;\n",
       "    }\n",
       "\n",
       "    .dataframe thead th {\n",
       "        text-align: right;\n",
       "    }\n",
       "</style>\n",
       "<table border=\"1\" class=\"dataframe\">\n",
       "  <thead>\n",
       "    <tr style=\"text-align: right;\">\n",
       "      <th></th>\n",
       "      <th>InvoiceDate</th>\n",
       "      <th>Fecha</th>\n",
       "      <th>Hora</th>\n",
       "    </tr>\n",
       "  </thead>\n",
       "  <tbody>\n",
       "    <tr>\n",
       "      <th>541894</th>\n",
       "      <td>12/9/2011 12:50</td>\n",
       "      <td>12/9/2011</td>\n",
       "      <td>12:50</td>\n",
       "    </tr>\n",
       "    <tr>\n",
       "      <th>541895</th>\n",
       "      <td>12/9/2011 12:50</td>\n",
       "      <td>12/9/2011</td>\n",
       "      <td>12:50</td>\n",
       "    </tr>\n",
       "    <tr>\n",
       "      <th>541896</th>\n",
       "      <td>12/9/2011 12:50</td>\n",
       "      <td>12/9/2011</td>\n",
       "      <td>12:50</td>\n",
       "    </tr>\n",
       "    <tr>\n",
       "      <th>541897</th>\n",
       "      <td>12/9/2011 12:50</td>\n",
       "      <td>12/9/2011</td>\n",
       "      <td>12:50</td>\n",
       "    </tr>\n",
       "    <tr>\n",
       "      <th>541898</th>\n",
       "      <td>12/9/2011 12:50</td>\n",
       "      <td>12/9/2011</td>\n",
       "      <td>12:50</td>\n",
       "    </tr>\n",
       "    <tr>\n",
       "      <th>541899</th>\n",
       "      <td>12/9/2011 12:50</td>\n",
       "      <td>12/9/2011</td>\n",
       "      <td>12:50</td>\n",
       "    </tr>\n",
       "    <tr>\n",
       "      <th>541900</th>\n",
       "      <td>12/9/2011 12:50</td>\n",
       "      <td>12/9/2011</td>\n",
       "      <td>12:50</td>\n",
       "    </tr>\n",
       "    <tr>\n",
       "      <th>541901</th>\n",
       "      <td>12/9/2011 12:50</td>\n",
       "      <td>12/9/2011</td>\n",
       "      <td>12:50</td>\n",
       "    </tr>\n",
       "    <tr>\n",
       "      <th>541902</th>\n",
       "      <td>12/9/2011 12:50</td>\n",
       "      <td>12/9/2011</td>\n",
       "      <td>12:50</td>\n",
       "    </tr>\n",
       "    <tr>\n",
       "      <th>541903</th>\n",
       "      <td>12/9/2011 12:50</td>\n",
       "      <td>12/9/2011</td>\n",
       "      <td>12:50</td>\n",
       "    </tr>\n",
       "    <tr>\n",
       "      <th>541904</th>\n",
       "      <td>12/9/2011 12:50</td>\n",
       "      <td>12/9/2011</td>\n",
       "      <td>12:50</td>\n",
       "    </tr>\n",
       "    <tr>\n",
       "      <th>541905</th>\n",
       "      <td>12/9/2011 12:50</td>\n",
       "      <td>12/9/2011</td>\n",
       "      <td>12:50</td>\n",
       "    </tr>\n",
       "    <tr>\n",
       "      <th>541906</th>\n",
       "      <td>12/9/2011 12:50</td>\n",
       "      <td>12/9/2011</td>\n",
       "      <td>12:50</td>\n",
       "    </tr>\n",
       "    <tr>\n",
       "      <th>541907</th>\n",
       "      <td>12/9/2011 12:50</td>\n",
       "      <td>12/9/2011</td>\n",
       "      <td>12:50</td>\n",
       "    </tr>\n",
       "    <tr>\n",
       "      <th>541908</th>\n",
       "      <td>12/9/2011 12:50</td>\n",
       "      <td>12/9/2011</td>\n",
       "      <td>12:50</td>\n",
       "    </tr>\n",
       "  </tbody>\n",
       "</table>\n",
       "</div>"
      ],
      "text/plain": [
       "            InvoiceDate      Fecha   Hora\n",
       "541894  12/9/2011 12:50  12/9/2011  12:50\n",
       "541895  12/9/2011 12:50  12/9/2011  12:50\n",
       "541896  12/9/2011 12:50  12/9/2011  12:50\n",
       "541897  12/9/2011 12:50  12/9/2011  12:50\n",
       "541898  12/9/2011 12:50  12/9/2011  12:50\n",
       "541899  12/9/2011 12:50  12/9/2011  12:50\n",
       "541900  12/9/2011 12:50  12/9/2011  12:50\n",
       "541901  12/9/2011 12:50  12/9/2011  12:50\n",
       "541902  12/9/2011 12:50  12/9/2011  12:50\n",
       "541903  12/9/2011 12:50  12/9/2011  12:50\n",
       "541904  12/9/2011 12:50  12/9/2011  12:50\n",
       "541905  12/9/2011 12:50  12/9/2011  12:50\n",
       "541906  12/9/2011 12:50  12/9/2011  12:50\n",
       "541907  12/9/2011 12:50  12/9/2011  12:50\n",
       "541908  12/9/2011 12:50  12/9/2011  12:50"
      ]
     },
     "execution_count": 60,
     "metadata": {},
     "output_type": "execute_result"
    }
   ],
   "source": [
    "#Podemos mirar las columnas de la base para ver que tal. Ls instrucciones no dicen que borremos la columna original, aíque la dejo por ahora.\n",
    "\n",
    "df2[['InvoiceDate', 'Fecha', 'Hora']].tail(15)"
   ]
  },
  {
   "cell_type": "code",
   "execution_count": 63,
   "metadata": {},
   "outputs": [
    {
     "data": {
      "text/html": [
       "<div>\n",
       "<style scoped>\n",
       "    .dataframe tbody tr th:only-of-type {\n",
       "        vertical-align: middle;\n",
       "    }\n",
       "\n",
       "    .dataframe tbody tr th {\n",
       "        vertical-align: top;\n",
       "    }\n",
       "\n",
       "    .dataframe thead th {\n",
       "        text-align: right;\n",
       "    }\n",
       "</style>\n",
       "<table border=\"1\" class=\"dataframe\">\n",
       "  <thead>\n",
       "    <tr style=\"text-align: right;\">\n",
       "      <th></th>\n",
       "      <th>UnitPrice</th>\n",
       "      <th>Quantity</th>\n",
       "      <th>Total</th>\n",
       "    </tr>\n",
       "  </thead>\n",
       "  <tbody>\n",
       "    <tr>\n",
       "      <th>0</th>\n",
       "      <td>2.55</td>\n",
       "      <td>6</td>\n",
       "      <td>15.30</td>\n",
       "    </tr>\n",
       "    <tr>\n",
       "      <th>1</th>\n",
       "      <td>3.39</td>\n",
       "      <td>6</td>\n",
       "      <td>20.34</td>\n",
       "    </tr>\n",
       "    <tr>\n",
       "      <th>2</th>\n",
       "      <td>2.75</td>\n",
       "      <td>8</td>\n",
       "      <td>22.00</td>\n",
       "    </tr>\n",
       "    <tr>\n",
       "      <th>3</th>\n",
       "      <td>3.39</td>\n",
       "      <td>6</td>\n",
       "      <td>20.34</td>\n",
       "    </tr>\n",
       "    <tr>\n",
       "      <th>4</th>\n",
       "      <td>3.39</td>\n",
       "      <td>6</td>\n",
       "      <td>20.34</td>\n",
       "    </tr>\n",
       "    <tr>\n",
       "      <th>5</th>\n",
       "      <td>7.65</td>\n",
       "      <td>2</td>\n",
       "      <td>15.30</td>\n",
       "    </tr>\n",
       "    <tr>\n",
       "      <th>6</th>\n",
       "      <td>4.25</td>\n",
       "      <td>6</td>\n",
       "      <td>25.50</td>\n",
       "    </tr>\n",
       "    <tr>\n",
       "      <th>7</th>\n",
       "      <td>1.85</td>\n",
       "      <td>6</td>\n",
       "      <td>11.10</td>\n",
       "    </tr>\n",
       "    <tr>\n",
       "      <th>8</th>\n",
       "      <td>1.85</td>\n",
       "      <td>6</td>\n",
       "      <td>11.10</td>\n",
       "    </tr>\n",
       "    <tr>\n",
       "      <th>9</th>\n",
       "      <td>1.69</td>\n",
       "      <td>32</td>\n",
       "      <td>54.08</td>\n",
       "    </tr>\n",
       "    <tr>\n",
       "      <th>10</th>\n",
       "      <td>2.10</td>\n",
       "      <td>6</td>\n",
       "      <td>12.60</td>\n",
       "    </tr>\n",
       "    <tr>\n",
       "      <th>11</th>\n",
       "      <td>2.10</td>\n",
       "      <td>6</td>\n",
       "      <td>12.60</td>\n",
       "    </tr>\n",
       "    <tr>\n",
       "      <th>12</th>\n",
       "      <td>3.75</td>\n",
       "      <td>8</td>\n",
       "      <td>30.00</td>\n",
       "    </tr>\n",
       "    <tr>\n",
       "      <th>13</th>\n",
       "      <td>1.65</td>\n",
       "      <td>6</td>\n",
       "      <td>9.90</td>\n",
       "    </tr>\n",
       "    <tr>\n",
       "      <th>14</th>\n",
       "      <td>4.25</td>\n",
       "      <td>6</td>\n",
       "      <td>25.50</td>\n",
       "    </tr>\n",
       "  </tbody>\n",
       "</table>\n",
       "</div>"
      ],
      "text/plain": [
       "    UnitPrice  Quantity  Total\n",
       "0        2.55         6  15.30\n",
       "1        3.39         6  20.34\n",
       "2        2.75         8  22.00\n",
       "3        3.39         6  20.34\n",
       "4        3.39         6  20.34\n",
       "5        7.65         2  15.30\n",
       "6        4.25         6  25.50\n",
       "7        1.85         6  11.10\n",
       "8        1.85         6  11.10\n",
       "9        1.69        32  54.08\n",
       "10       2.10         6  12.60\n",
       "11       2.10         6  12.60\n",
       "12       3.75         8  30.00\n",
       "13       1.65         6   9.90\n",
       "14       4.25         6  25.50"
      ]
     },
     "execution_count": 63,
     "metadata": {},
     "output_type": "execute_result"
    }
   ],
   "source": [
    "df2['Total']=df2['Quantity'] * df2['UnitPrice']\n",
    "\n",
    "df2[['UnitPrice', 'Quantity', 'Total']].head(15)"
   ]
  },
  {
   "cell_type": "code",
   "execution_count": 64,
   "metadata": {},
   "outputs": [],
   "source": [
    "df2.to_csv(\"base_trabajada.csv\")"
   ]
  },
  {
   "cell_type": "markdown",
   "metadata": {},
   "source": [
    "2.3. Estadísticas descriptivas:\n",
    "\n",
    "•Crear un diccionario con 50 datos que contenga al menos tres atributos continuos.\n",
    "•Transforme dicho diccionario a un dataFrame de Pandas.\n",
    "•Obtenga estad´ısticas descriptivas de tendencia central.\n",
    "•Obtenga estad´ısticas descriptivas de dispersi´on."
   ]
  },
  {
   "cell_type": "code",
   "execution_count": 66,
   "metadata": {},
   "outputs": [],
   "source": [
    "animales = ['Caballo', 'Gato', 'Oveja', 'Mapache', 'Elefante']\n",
    "\n",
    "diccionario_animales = {'Animal': np.random.choice(animales, 50), \"Carisma\": np.random.randint(1, 10, 50), \"Belleza\": np.random.randint(1, 10, 50), \"Dulzura\": np.random.randint(1, 10, 50), \"Ingenio\": np.random.randint(1, 10, 50)}\n",
    "\n",
    "df3=pd.DataFrame(diccionario_animales)"
   ]
  },
  {
   "cell_type": "code",
   "execution_count": 68,
   "metadata": {},
   "outputs": [
    {
     "data": {
      "text/plain": [
       "Animal\n",
       "Elefante    15\n",
       "Mapache     12\n",
       "Gato         9\n",
       "Caballo      7\n",
       "Oveja        7\n",
       "Name: count, dtype: int64"
      ]
     },
     "execution_count": 68,
     "metadata": {},
     "output_type": "execute_result"
    }
   ],
   "source": [
    "df3['Animal'].value_counts()"
   ]
  },
  {
   "cell_type": "markdown",
   "metadata": {},
   "source": [
    "Medidas"
   ]
  },
  {
   "cell_type": "code",
   "execution_count": 70,
   "metadata": {},
   "outputs": [
    {
     "data": {
      "text/html": [
       "<div>\n",
       "<style scoped>\n",
       "    .dataframe tbody tr th:only-of-type {\n",
       "        vertical-align: middle;\n",
       "    }\n",
       "\n",
       "    .dataframe tbody tr th {\n",
       "        vertical-align: top;\n",
       "    }\n",
       "\n",
       "    .dataframe thead th {\n",
       "        text-align: right;\n",
       "    }\n",
       "</style>\n",
       "<table border=\"1\" class=\"dataframe\">\n",
       "  <thead>\n",
       "    <tr style=\"text-align: right;\">\n",
       "      <th></th>\n",
       "      <th>Carisma</th>\n",
       "      <th>Belleza</th>\n",
       "      <th>Dulzura</th>\n",
       "      <th>Ingenio</th>\n",
       "    </tr>\n",
       "  </thead>\n",
       "  <tbody>\n",
       "    <tr>\n",
       "      <th>count</th>\n",
       "      <td>50.000000</td>\n",
       "      <td>50.000000</td>\n",
       "      <td>50.000000</td>\n",
       "      <td>50.000000</td>\n",
       "    </tr>\n",
       "    <tr>\n",
       "      <th>mean</th>\n",
       "      <td>5.200000</td>\n",
       "      <td>5.280000</td>\n",
       "      <td>4.840000</td>\n",
       "      <td>4.700000</td>\n",
       "    </tr>\n",
       "    <tr>\n",
       "      <th>std</th>\n",
       "      <td>2.813959</td>\n",
       "      <td>2.733317</td>\n",
       "      <td>2.469074</td>\n",
       "      <td>2.612763</td>\n",
       "    </tr>\n",
       "    <tr>\n",
       "      <th>min</th>\n",
       "      <td>1.000000</td>\n",
       "      <td>1.000000</td>\n",
       "      <td>1.000000</td>\n",
       "      <td>1.000000</td>\n",
       "    </tr>\n",
       "    <tr>\n",
       "      <th>25%</th>\n",
       "      <td>2.250000</td>\n",
       "      <td>3.000000</td>\n",
       "      <td>3.000000</td>\n",
       "      <td>3.000000</td>\n",
       "    </tr>\n",
       "    <tr>\n",
       "      <th>50%</th>\n",
       "      <td>6.000000</td>\n",
       "      <td>5.000000</td>\n",
       "      <td>5.000000</td>\n",
       "      <td>5.000000</td>\n",
       "    </tr>\n",
       "    <tr>\n",
       "      <th>75%</th>\n",
       "      <td>8.000000</td>\n",
       "      <td>8.000000</td>\n",
       "      <td>7.000000</td>\n",
       "      <td>6.750000</td>\n",
       "    </tr>\n",
       "    <tr>\n",
       "      <th>max</th>\n",
       "      <td>9.000000</td>\n",
       "      <td>9.000000</td>\n",
       "      <td>9.000000</td>\n",
       "      <td>9.000000</td>\n",
       "    </tr>\n",
       "  </tbody>\n",
       "</table>\n",
       "</div>"
      ],
      "text/plain": [
       "         Carisma    Belleza    Dulzura    Ingenio\n",
       "count  50.000000  50.000000  50.000000  50.000000\n",
       "mean    5.200000   5.280000   4.840000   4.700000\n",
       "std     2.813959   2.733317   2.469074   2.612763\n",
       "min     1.000000   1.000000   1.000000   1.000000\n",
       "25%     2.250000   3.000000   3.000000   3.000000\n",
       "50%     6.000000   5.000000   5.000000   5.000000\n",
       "75%     8.000000   8.000000   7.000000   6.750000\n",
       "max     9.000000   9.000000   9.000000   9.000000"
      ]
     },
     "execution_count": 70,
     "metadata": {},
     "output_type": "execute_result"
    }
   ],
   "source": [
    "df3.describe()"
   ]
  },
  {
   "cell_type": "markdown",
   "metadata": {},
   "source": [
    "Imputación y similares"
   ]
  },
  {
   "cell_type": "code",
   "execution_count": 16,
   "metadata": {},
   "outputs": [],
   "source": [
    "#Problema con separador, es punto y coma en lugar de coma.\n",
    "\n",
    "df4=pd.read_csv(\"datos/books_data.csv\", sep=\";\", encoding = \"latin-1\")\n",
    "\n",
    "#Este no tiene problemas con separador, pero mantiene lo del encoding.\n",
    "df5= pd.read_csv(\"datos/ratings_data.csv\", encoding = \"latin-1\")"
   ]
  },
  {
   "cell_type": "code",
   "execution_count": 18,
   "metadata": {},
   "outputs": [
    {
     "data": {
      "text/html": [
       "<div>\n",
       "<style scoped>\n",
       "    .dataframe tbody tr th:only-of-type {\n",
       "        vertical-align: middle;\n",
       "    }\n",
       "\n",
       "    .dataframe tbody tr th {\n",
       "        vertical-align: top;\n",
       "    }\n",
       "\n",
       "    .dataframe thead th {\n",
       "        text-align: right;\n",
       "    }\n",
       "</style>\n",
       "<table border=\"1\" class=\"dataframe\">\n",
       "  <thead>\n",
       "    <tr style=\"text-align: right;\">\n",
       "      <th></th>\n",
       "      <th>Unnamed: 0</th>\n",
       "      <th>User-ID</th>\n",
       "      <th>ISBN</th>\n",
       "      <th>Book-Rating</th>\n",
       "      <th>MeanRating</th>\n",
       "    </tr>\n",
       "  </thead>\n",
       "  <tbody>\n",
       "    <tr>\n",
       "      <th>0</th>\n",
       "      <td>0</td>\n",
       "      <td>276725</td>\n",
       "      <td>034545104X</td>\n",
       "      <td>0</td>\n",
       "      <td>2.933333</td>\n",
       "    </tr>\n",
       "    <tr>\n",
       "      <th>1</th>\n",
       "      <td>1</td>\n",
       "      <td>276726</td>\n",
       "      <td>0155061224</td>\n",
       "      <td>5</td>\n",
       "      <td>2.500000</td>\n",
       "    </tr>\n",
       "    <tr>\n",
       "      <th>2</th>\n",
       "      <td>2</td>\n",
       "      <td>276727</td>\n",
       "      <td>0446520802</td>\n",
       "      <td>0</td>\n",
       "      <td>4.060345</td>\n",
       "    </tr>\n",
       "    <tr>\n",
       "      <th>3</th>\n",
       "      <td>3</td>\n",
       "      <td>276729</td>\n",
       "      <td>052165615X</td>\n",
       "      <td>3</td>\n",
       "      <td>3.000000</td>\n",
       "    </tr>\n",
       "    <tr>\n",
       "      <th>4</th>\n",
       "      <td>4</td>\n",
       "      <td>276729</td>\n",
       "      <td>0521795028</td>\n",
       "      <td>6</td>\n",
       "      <td>6.000000</td>\n",
       "    </tr>\n",
       "    <tr>\n",
       "      <th>5</th>\n",
       "      <td>5</td>\n",
       "      <td>276733</td>\n",
       "      <td>2080674722</td>\n",
       "      <td>0</td>\n",
       "      <td>3.666667</td>\n",
       "    </tr>\n",
       "    <tr>\n",
       "      <th>6</th>\n",
       "      <td>6</td>\n",
       "      <td>276736</td>\n",
       "      <td>3257224281</td>\n",
       "      <td>8</td>\n",
       "      <td>5.400000</td>\n",
       "    </tr>\n",
       "    <tr>\n",
       "      <th>7</th>\n",
       "      <td>7</td>\n",
       "      <td>276737</td>\n",
       "      <td>0600570967</td>\n",
       "      <td>6</td>\n",
       "      <td>6.000000</td>\n",
       "    </tr>\n",
       "    <tr>\n",
       "      <th>8</th>\n",
       "      <td>8</td>\n",
       "      <td>276744</td>\n",
       "      <td>038550120X</td>\n",
       "      <td>7</td>\n",
       "      <td>3.336957</td>\n",
       "    </tr>\n",
       "    <tr>\n",
       "      <th>9</th>\n",
       "      <td>9</td>\n",
       "      <td>276745</td>\n",
       "      <td>342310538</td>\n",
       "      <td>10</td>\n",
       "      <td>5.000000</td>\n",
       "    </tr>\n",
       "    <tr>\n",
       "      <th>10</th>\n",
       "      <td>10</td>\n",
       "      <td>276746</td>\n",
       "      <td>0425115801</td>\n",
       "      <td>0</td>\n",
       "      <td>2.529851</td>\n",
       "    </tr>\n",
       "    <tr>\n",
       "      <th>11</th>\n",
       "      <td>11</td>\n",
       "      <td>276746</td>\n",
       "      <td>0449006522</td>\n",
       "      <td>0</td>\n",
       "      <td>3.504505</td>\n",
       "    </tr>\n",
       "    <tr>\n",
       "      <th>12</th>\n",
       "      <td>12</td>\n",
       "      <td>276746</td>\n",
       "      <td>0553561618</td>\n",
       "      <td>0</td>\n",
       "      <td>2.153285</td>\n",
       "    </tr>\n",
       "    <tr>\n",
       "      <th>13</th>\n",
       "      <td>13</td>\n",
       "      <td>276746</td>\n",
       "      <td>055356451X</td>\n",
       "      <td>0</td>\n",
       "      <td>2.623529</td>\n",
       "    </tr>\n",
       "    <tr>\n",
       "      <th>14</th>\n",
       "      <td>14</td>\n",
       "      <td>276746</td>\n",
       "      <td>0786013990</td>\n",
       "      <td>0</td>\n",
       "      <td>3.285714</td>\n",
       "    </tr>\n",
       "  </tbody>\n",
       "</table>\n",
       "</div>"
      ],
      "text/plain": [
       "    Unnamed: 0  User-ID        ISBN  Book-Rating  MeanRating\n",
       "0            0   276725  034545104X            0    2.933333\n",
       "1            1   276726  0155061224            5    2.500000\n",
       "2            2   276727  0446520802            0    4.060345\n",
       "3            3   276729  052165615X            3    3.000000\n",
       "4            4   276729  0521795028            6    6.000000\n",
       "5            5   276733  2080674722            0    3.666667\n",
       "6            6   276736  3257224281            8    5.400000\n",
       "7            7   276737  0600570967            6    6.000000\n",
       "8            8   276744  038550120X            7    3.336957\n",
       "9            9   276745   342310538           10    5.000000\n",
       "10          10   276746  0425115801            0    2.529851\n",
       "11          11   276746  0449006522            0    3.504505\n",
       "12          12   276746  0553561618            0    2.153285\n",
       "13          13   276746  055356451X            0    2.623529\n",
       "14          14   276746  0786013990            0    3.285714"
      ]
     },
     "execution_count": 18,
     "metadata": {},
     "output_type": "execute_result"
    }
   ],
   "source": [
    "df5.head(15)"
   ]
  },
  {
   "cell_type": "code",
   "execution_count": 19,
   "metadata": {},
   "outputs": [
    {
     "data": {
      "text/plain": [
       "Unnamed: 0     0\n",
       "User-ID        0\n",
       "ISBN           0\n",
       "Book-Rating    0\n",
       "MeanRating     0\n",
       "dtype: int64"
      ]
     },
     "execution_count": 19,
     "metadata": {},
     "output_type": "execute_result"
    }
   ],
   "source": [
    "df5.isnull().sum()"
   ]
  },
  {
   "cell_type": "code",
   "execution_count": 20,
   "metadata": {},
   "outputs": [],
   "source": [
    "df_consolidada=df4.merge(right=df5, on='ISBN')"
   ]
  },
  {
   "cell_type": "code",
   "execution_count": 22,
   "metadata": {},
   "outputs": [],
   "source": [
    "df_consolidada.to_csv(\"base libros consolidada.csv\")"
   ]
  }
 ],
 "metadata": {
  "kernelspec": {
   "display_name": "base",
   "language": "python",
   "name": "python3"
  },
  "language_info": {
   "codemirror_mode": {
    "name": "ipython",
    "version": 3
   },
   "file_extension": ".py",
   "mimetype": "text/x-python",
   "name": "python",
   "nbconvert_exporter": "python",
   "pygments_lexer": "ipython3",
   "version": "3.11.9"
  }
 },
 "nbformat": 4,
 "nbformat_minor": 2
}
