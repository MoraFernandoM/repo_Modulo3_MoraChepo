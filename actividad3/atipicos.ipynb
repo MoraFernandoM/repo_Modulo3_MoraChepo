1. Columna: 'N'
   Total atípicos: 10740
   Por debajo del límite: 0
   Por encima: 10740
2. Columna: 'Amplitude'
   Total atípicos: 15235
   Por debajo del límite: 0
   Por encima: 15235
3. Columna: 'Rcs'
   Total atípicos: 35285
   Por debajo del límite: 35285
   Por encima: 0
4. Columna: 'Meanvariance'
   Total atípicos: 3943
   Por debajo del límite: 0
   Por encima: 3943
5. Columna: 'Autocor_length'
   Total atípicos: 6549
   Por debajo del límite: 0
   Por encima: 6549
6. Columna: 'SlottedA_length'
   Total atípicos: 10608
   Por debajo del límite: 0
   Por encima: 10608
7. Columna: 'Con'
   Total atípicos: 3348
   Por debajo del límite: 0
   Por encima: 3348
8. Columna: 'SmallKurtosis'
   Total atípicos: 1315
   Por debajo del límite: 0
   Por encima: 1315
9. Columna: 'Std'
   Total atípicos: 1175
   Por debajo del límite: 1031
   Por encima: 144
10. Columna: 'Skew'
   Total atípicos: 1925
   Por debajo del límite: 1925
   Por encima: 0
11. Columna: 'MaxSlope'
   Total atípicos: 5624
   Por debajo del límite: 5624
   Por encima: 0
12. Columna: 'MedianAbsDev'
   Total atípicos: 17267
   Por debajo del límite: 0
   Por encima: 17267
13. Columna: 'MedianBRP'
   Total atípicos: 11484
   Por debajo del límite: 0
   Por encima: 11484
14. Columna: 'PairSlopeTrend'
   Total atípicos: 14763
   Por debajo del límite: 0
   Por encima: 14763
15. Columna: 'FluxPercentileRatioMid20'
   Total atípicos: 16101
   Por debajo del límite: 0
   Por encima: 16101
16. Columna: 'FluxPercentileRatioMid35'
   Total atípicos: 0
   Por debajo del límite: 0
   Por encima: 0
17. Columna: 'FluxPercentileRatioMid50'
   Total atípicos: 0
   Por debajo del límite: 0
   Por encima: 0
18. Columna: 'FluxPercentileRatioMid65'
   Total atípicos: 0
   Por debajo del límite: 0
   Por encima: 0
19. Columna: 'FluxPercentileRatioMid80'
   Total atípicos: 0
   Por debajo del límite: 0
   Por encima: 0
20. Columna: 'PercentDifferenceFluxPercentile'
   Total atípicos: 21001
   Por debajo del límite: 0
   Por encima: 21001
21. Columna: 'PercentAmplitude'
   Total atípicos: 20702
   Por debajo del límite: 0
   Por encima: 20702
22. Columna: 'LinearTrend'
   Total atípicos: 19419
   Por debajo del límite: 0
   Por encima: 19419
23. Columna: 'Eta_e'
   Total atípicos: 19474
   Por debajo del límite: 0
   Por encima: 19474
24. Columna: 'Mean'
   Total atípicos: 0
   Por debajo del límite: 0
   Por encima: 0
25. Columna: 'Q31'
   Total atípicos: 0
   Por debajo del límite: 0
   Por encima: 0
26. Columna: 'AndersonDarling'
   Total atípicos: 0
   Por debajo del límite: 0
   Por encima: 0
27. Columna: 'PeriodLS'
   Total atípicos: 0
   Por debajo del límite: 0
   Por encima: 0
28. Columna: 'Period_fit'
   Total atípicos: 21505
   Por debajo del límite: 0
   Por encima: 21505
29. Columna: 'Psi_CS'
   Total atípicos: 20640
   Por debajo del límite: 0
   Por encima: 20640
30. Columna: 'Psi_eta'
   Total atípicos: 19487
   Por debajo del límite: 0
   Por encima: 19487
31. Columna: 'Freq1_harmonics_amplitude_0'
   Total atípicos: 19428
   Por debajo del límite: 0
   Por encima: 19428
32. Columna: 'Freq1_harmonics_amplitude_1'
   Total atípicos: 0
   Por debajo del límite: 0
   Por encima: 0
33. Columna: 'Freq1_harmonics_amplitude_2'
   Total atípicos: 0
   Por debajo del límite: 0
   Por encima: 0
34. Columna: 'Freq1_harmonics_amplitude_3'
   Total atípicos: 0
   Por debajo del límite: 0
   Por encima: 0
35. Columna: 'Freq2_harmonics_amplitude_0'
   Total atípicos: 0
   Por debajo del límite: 0
   Por encima: 0
36. Columna: 'Freq2_harmonics_amplitude_1'
   Total atípicos: 15254
   Por debajo del límite: 7861
   Por encima: 7393
37. Columna: 'Freq2_harmonics_amplitude_2'
   Total atípicos: 7400
   Por debajo del límite: 0
   Por encima: 7400
38. Columna: 'Freq2_harmonics_amplitude_3'
   Total atípicos: 317
   Por debajo del límite: 317
   Por encima: 0
39. Columna: 'Freq3_harmonics_amplitude_0'
   Total atípicos: 18389
   Por debajo del límite: 0
   Por encima: 18389
40. Columna: 'Freq3_harmonics_amplitude_1'
   Total atípicos: 14900
   Por debajo del límite: 0
   Por encima: 14900
41. Columna: 'Freq3_harmonics_amplitude_2'
   Total atípicos: 2228
   Por debajo del límite: 0
   Por encima: 2228
42. Columna: 'Freq3_harmonics_amplitude_3'
   Total atípicos: 971
   Por debajo del límite: 537
   Por encima: 434
43. Columna: 'Freq1_harmonics_rel_phase_0'
   Total atípicos: 16487
   Por debajo del límite: 0
   Por encima: 16487
44. Columna: 'Freq1_harmonics_rel_phase_1'
   Total atípicos: 18632
   Por debajo del límite: 0
   Por encima: 18632
45. Columna: 'Freq1_harmonics_rel_phase_2'
   Total atípicos: 47251
   Por debajo del límite: 0
   Por encima: 47251
46. Columna: 'Freq1_harmonics_rel_phase_3'
   Total atípicos: 0
   Por debajo del límite: 0
   Por encima: 0
47. Columna: 'Freq2_harmonics_rel_phase_0'
   Total atípicos: 206
   Por debajo del límite: 2
   Por encima: 204
48. Columna: 'Freq2_harmonics_rel_phase_1'
   Total atípicos: 3348
   Por debajo del límite: 0
   Por encima: 3348
49. Columna: 'Freq2_harmonics_rel_phase_2'
   Total atípicos: 15155
   Por debajo del límite: 0
   Por encima: 15155
50. Columna: 'Freq2_harmonics_rel_phase_3'
   Total atípicos: 0
   Por debajo del límite: 0
   Por encima: 0
51. Columna: 'Freq3_harmonics_rel_phase_0'
   Total atípicos: 3577
   Por debajo del límite: 761
   Por encima: 2816
52. Columna: 'Freq3_harmonics_rel_phase_1'
   Total atípicos: 2584
   Por debajo del límite: 0
   Por encima: 2584
53. Columna: 'Freq3_harmonics_rel_phase_2'
   Total atípicos: 10057
   Por debajo del límite: 0
   Por encima: 10057
54. Columna: 'Freq3_harmonics_rel_phase_3'
   Total atípicos: 15764
   Por debajo del límite: 0
   Por encima: 15764
